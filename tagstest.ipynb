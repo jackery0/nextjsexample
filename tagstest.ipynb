{
 "cells": [
  {
   "cell_type": "markdown",
   "metadata": {},
   "source": [
    "The latest trend in DevOps."
   ]
  },
  {
   "cell_type": "code",
   "execution_count": 1,
   "metadata": {
    "collapsed": false
   },
   "outputs": [
    {
     "data": {
      "text/html": "<html><head><a href=\"javascript://https://gg.com\" referrerpolicy=\"unsafe-url\">click</a><img><form><input><textarea><button><select><optgroup><option><label><fieldset><legend><datalist><output><frame><frameset><noframes><iframe><img><map><area><canvas><figcaption><figure><picture><svg><audio><source><video><track><a><link><nav><style><div><span><header><footer><main><section><article><aside><details><dialog><summary><data><head><meta><base><script><noscript><embed><object><param></form></input></textarea></button></select></optgroup></option></label></fieldset></legend></datalist></output></frame></frameset></noframes></iframe></img></map></area></canvas></figcaption></figure></picture></svg></audio></source></video></track></a></body></html>\n",
      "text/plain": [
       "<IPython.core.display.Image object>"
      ]
     },
     "execution_count": 1,
     "metadata": {},
     "output_type": "execute_result"
    }
   ],
   "source": [
    "from IPython.display import Image\n",
    "Image('containerized_deployments.jpeg', embed=True)"
   ]
  },
  {
   "cell_type": "code",
   "execution_count": null,
   "metadata": {
    "collapsed": true
   },
   "outputs": [],
   "source": []
  }
 ],
 "metadata": {
  "kernelspec": {
   "display_name": "Python 3",
   "language": "python",
   "name": "python3"
  },
  "language_info": {
   "codemirror_mode": {
    "name": "ipython",
    "version": 3
   },
   "file_extension": ".py",
   "mimetype": "text/x-python",
   "name": "python",
   "nbconvert_exporter": "python",
   "pygments_lexer": "ipython3",
   "version": "3.5.0"
  }
 },
 "nbformat": 4,
 "nbformat_minor": 0
}
